{
 "cells": [
  {
   "cell_type": "markdown",
   "metadata": {},
   "source": [
    "# Building a local DDF/kMS branch on the Bologna LOFAR cluster"
   ]
  },
  {
   "cell_type": "markdown",
   "metadata": {},
   "source": [
    "### Comments? Questions? Complaints? Email etienne.bonnassieux@unibo.it"
   ]
  },
  {
   "cell_type": "markdown",
   "metadata": {},
   "source": [
    "This notebook contains the commands necessary to build your own branch of DDF for dev work on the Bologna LOFAR clusters. It was created on 20/10/2020 and may not remain up-to-date forever. Note that, at the time of writing, it contains different build instructions than the documentation on the main DDFacet repository indicates: this is intentional.\n",
    "\n",
    "## Building a local DDF\n",
    "\n",
    "We begin by entering the dedicated singularity with all the prerequisite software properly installed, built and path'd. First:"
   ]
  },
  {
   "cell_type": "code",
   "execution_count": null,
   "metadata": {},
   "outputs": [],
   "source": [
    "singularity-setup\n",
    "lofar-setup d10.201020.09-ddf-private\n",
    "lofar-singularity"
   ]
  },
  {
   "cell_type": "markdown",
   "metadata": {},
   "source": [
    "The first two commands ensure you land in the correct singularity; the third puts you inside it. You can tell the difference by looking at your terminal: before, it should have looked something like \n",
    "\n",
    "[bonnassieux@lofar4 3C295_Frits]$\n",
    "\n",
    "and it will now look like\n",
    "\n",
    "Singularity> \n",
    "\n",
    "If so, things are working as they should. Now, we have to build the paths. Thankfully, the sysadmins have generously made this a simple task for us. Simply launch these commands:"
   ]
  },
  {
   "cell_type": "code",
   "execution_count": null,
   "metadata": {},
   "outputs": [],
   "source": [
    ". /opt/lofar-cfg.sh\n",
    ". /opt/lofar-init.sh"
   ]
  },
  {
   "cell_type": "markdown",
   "metadata": {},
   "source": [
    "We are now in the proper environment, and can proceed to building DDFacet. Go to whever you want to have your local version installed; in my case, this will be /homes/bonnassieux"
   ]
  },
  {
   "cell_type": "code",
   "execution_count": null,
   "metadata": {},
   "outputs": [],
   "source": [
    "cd /homes/bonnassieux\n",
    "git clone https://github.com/cyriltasse/DDFacet\n",
    "pip3 install --user -e DDFacet"
   ]
  },
  {
   "cell_type": "markdown",
   "metadata": {},
   "source": [
    "At this point, you will download a bunch of prerequisites for the build. The program will fail upon downloading llvmlite: don't worry, that is normal and expected. The singularity setup will handle those builds. Once your pip3 install has failed (if it failed on llvmlite), proceed to build DDF:"
   ]
  },
  {
   "cell_type": "code",
   "execution_count": null,
   "metadata": {},
   "outputs": [],
   "source": [
    "cd DDFacet\n",
    "git checkout branchname\n",
    "git submodule update --init --recursive\n",
    "python3 setup.py build\n",
    "python3 setup.py install --prefix=MyDDF"
   ]
  },
  {
   "cell_type": "markdown",
   "metadata": {},
   "source": [
    "Note that the git clone command will prompt you to log into github. If you do not have access to the DDFacet github, you probably shouldn't be building a development branch of DDF for yourself in the first place. Contact your supervisor and/or whoever asked you to follow this tutorial for assistance.\n",
    "\n",
    "This will create a version of DDF, from the branch branchname (replace with master, BeamATCA, BeamGMRT, SlitHugeIslands, etc as necessary for your specific case). When building, you will get a million warnings about unused variables: they have been forgotten by their creator and left to fend for themselves. As they do not care, neither should you.\n",
    "\n",
    "After the build is complete, you can now call your own build of DDF locally. To do so, if you used the same prefix as given above (the actual string is arbitrary), call it as \\$(INSTALLDIR)/DDFacet/\\$(PREFIX)/bin/DDF.py. In my case, that means I call it as:"
   ]
  },
  {
   "cell_type": "code",
   "execution_count": null,
   "metadata": {},
   "outputs": [],
   "source": [
    "/homes/bonnassieux/DDFacet/MyDDF/bin/DDF.py --version"
   ]
  },
  {
   "cell_type": "markdown",
   "metadata": {},
   "source": [
    "For convenience, you can redefine an alias for this. I would personally recommend against this, to ensure you do not accidentally end up using the default DDF installed in /opt/DDFacet . Nevertheless,it can be done as:"
   ]
  },
  {
   "cell_type": "code",
   "execution_count": null,
   "metadata": {},
   "outputs": [],
   "source": [
    "export alias DDF.py=\"/homes/bonnassieux/DDFacet/MyDDF/bin/DDF.py\"\n",
    "DDF.py --version"
   ]
  },
  {
   "cell_type": "markdown",
   "metadata": {},
   "source": [
    "which should give the same output as above. Again, it is risky; do this at your own peril. \n",
    "\n",
    "## Changing the DDF branch\n",
    "\n",
    "Now, say you've worked thus far in the MyCoolDDFBranch, but you need to use the awesome new features of the WowAmazing branch. To do this, simply return to wherever you cloned your DDF branch, which in my example case means:"
   ]
  },
  {
   "cell_type": "code",
   "execution_count": null,
   "metadata": {},
   "outputs": [],
   "source": [
    "cd /homes/bonnassieux\n",
    "cd DDFacet\n",
    "git checkout WowAmazing\n",
    "git submodule update --init --recursive\n",
    "python3 setup.py build\n",
    "python3 setup.py install --prefix=MyDDF"
   ]
  },
  {
   "cell_type": "markdown",
   "metadata": {},
   "source": [
    "This will rebuild the python packages: if you run DDF.py --version, you will notice the version output changed. It is possible that your local DDF repository does not include the WowAmazing branch, if you've not been updating your local repo. This can be fixed with a git pull:"
   ]
  },
  {
   "cell_type": "code",
   "execution_count": null,
   "metadata": {},
   "outputs": [],
   "source": [
    "git pull"
   ]
  },
  {
   "cell_type": "markdown",
   "metadata": {},
   "source": [
    "at which point you can resume the steps above from checkout."
   ]
  },
  {
   "cell_type": "markdown",
   "metadata": {},
   "source": [
    "## Building a local killMS\n",
    "\n",
    "If you've followed the advice given so far, you've built a python3 branch of DDFacet. However, you usually won't just want to do imaging - you'll want to do calibration, too. For this, you will need to build a python3 branch of killMS. The steps to do so will be outlined here, so you can have a beautiful fully-integrated, fully-operational pipeline of your very own.\n",
    "\n",
    "As before, we begin by cloning and building, ideally in the same directory where we did this for DDFacet. We will have the same error with llvmlite as we had before: once again, this is expected and nothing to worry about."
   ]
  },
  {
   "cell_type": "code",
   "execution_count": null,
   "metadata": {},
   "outputs": [],
   "source": [
    "cd /homes/bonnassieux\n",
    "git clone https://github.com/cyriltasse/killMS.git\n",
    "cd killMS\n",
    "git checkout MasterPython3\n",
    "cd ..\n",
    "pip3 install --user -e killMS"
   ]
  },
  {
   "cell_type": "markdown",
   "metadata": {},
   "source": [
    "If you've already built and installed DDF, most if not all of the prerequisites will already be installed and ready to go, but it's always best to be sure. Once you run into this error:\n",
    "\n",
    "\n",
    "Failed building wheel for llvmlite\n",
    "\n",
    "you will need to follow the same steps as previously for DDF:"
   ]
  },
  {
   "cell_type": "code",
   "execution_count": null,
   "metadata": {},
   "outputs": [],
   "source": [
    "cd killMS\n",
    "python3 setup.py build\n",
    "python3 setup.py install --prefix=MykMS"
   ]
  },
  {
   "cell_type": "markdown",
   "metadata": {},
   "source": [
    "Once this is done, you should be able to call your custom killMS install without trouble, in my case using the following command:"
   ]
  },
  {
   "cell_type": "code",
   "execution_count": null,
   "metadata": {},
   "outputs": [],
   "source": [
    "/homes/bonnassieux/killMS/MykMS/bin/kMS.py -h"
   ]
  },
  {
   "cell_type": "markdown",
   "metadata": {},
   "source": [
    "which will simply give you the \"documentation\" for killMS. As before, I recommend building an alias for it, eg:"
   ]
  },
  {
   "cell_type": "code",
   "execution_count": null,
   "metadata": {},
   "outputs": [],
   "source": [
    "export alias kMS.py=\"/homes/bonnassieux/killMS/MykMS/bin/kMS.py\""
   ]
  },
  {
   "cell_type": "markdown",
   "metadata": {},
   "source": [
    "## Using your new DDF/kMS install\n",
    "\n",
    "Now, say you built your awesome DDF branch inside the shiny dedicated singularity, but, undaunted, you decide to carry on and do some actual imaging with it. Fear not: other brave heroes have faced the same peril before you. For the sake of completeness, I recommend exiting your singularity first so that you have a clean break in your mind between the install and build process and the use.\n",
    "\n",
    "First, go to your working directory. Then, load your singularity again:"
   ]
  },
  {
   "cell_type": "code",
   "execution_count": null,
   "metadata": {},
   "outputs": [],
   "source": [
    "singularity-setup\n",
    "lofar-setup d10.201020.09-ddf-private\n",
    "lofar-singularity"
   ]
  },
  {
   "cell_type": "markdown",
   "metadata": {},
   "source": [
    "Once inside your singularity, you have to do your init and config commands again. Importantly however, you also have to make sure your PYTHONPATH reads your custom DDF install and not the default /opt one! If you get an error that talks about \n",
    "\n",
    "File \"/opt/SkyModel/Sky/ModVoronoi.py\", line 145   \n",
    "print \"--\"\n",
    "\n",
    "then you simply have forgotten to do this PYTHONPATH step (what it tells you here is that it is loading the /opt SkyModel install, which is in python2). In short, as soon as you enter the singularity - and *every time* you enter the singularity - type the following commands:"
   ]
  },
  {
   "cell_type": "code",
   "execution_count": null,
   "metadata": {},
   "outputs": [],
   "source": [
    ". /opt/lofar-cfg.sh\n",
    ". /opt/lofar-init.sh\n",
    "export PYTHONPATH=\"/homes/bonnassieux/DDFacet:/homes/bonnassieux/killMS:\"$PYTHONPATH\n",
    "alias kMS.py=\"/homes/bonnassieux/killMS/MykMS/bin/kMS.py\"\n",
    "alias DDF.py=\"/homes/bonnassieux/DDFacet/MyDDF/bin/DDF.py\""
   ]
  },
  {
   "cell_type": "markdown",
   "metadata": {},
   "source": [
    "where I used /homes/bonnassieux/DDFacet because that is where I installed my custom DDFacet. Point to wherever you have installed yours. You should now be able to call your custom DDF as before, which in my case is:"
   ]
  },
  {
   "cell_type": "code",
   "execution_count": null,
   "metadata": {},
   "outputs": [],
   "source": [
    "/homes/bonnassieux/DDFacet/MyDDF/bin/DDF.py -h"
   ]
  },
  {
   "cell_type": "markdown",
   "metadata": {},
   "source": [
    "or using an alias if you created one. From that point on, you're good to go! Have fun."
   ]
  }
 ],
 "metadata": {
  "kernelspec": {
   "display_name": "Python 3",
   "language": "python",
   "name": "python3"
  },
  "language_info": {
   "codemirror_mode": {
    "name": "ipython",
    "version": 3
   },
   "file_extension": ".py",
   "mimetype": "text/x-python",
   "name": "python",
   "nbconvert_exporter": "python",
   "pygments_lexer": "ipython3",
   "version": "3.6.9"
  }
 },
 "nbformat": 4,
 "nbformat_minor": 1
}

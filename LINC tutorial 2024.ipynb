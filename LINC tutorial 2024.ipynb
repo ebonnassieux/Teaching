{
 "cells": [
  {
   "cell_type": "markdown",
   "id": "5f94e364",
   "metadata": {},
   "source": [
    "# LINC tutorial - Jan 2024\n",
    "\n",
    "author: Etienne Bonnassieux etienne.bonnassieux@uni-wuerzburg.de\n",
    "Official documentation: https://linc.readthedocs.io/en/latest/\n",
    "\n",
    "## This document\n",
    "\n",
    "The purpose of this document is to provide an intuitive, user-friendly addition to the official LINC documentation, in order to allow new LOFAR users to run the initial calibration pipeline on their data. We will go through definining our paths, datasets, etc; we will then show how one can first install and then deploy LINC on the data as defined here.\n",
    "\n",
    "## Prerequisites\n",
    "\n",
    "The current software prerequisites for LINC are a huge improvement over past iterations: in principle, all that is strictly required is for git and python3 virtual environments to be installed. If this is not present, you can follow the steps below to install the python requirements (assuming a Linux machine):"
   ]
  },
  {
   "cell_type": "code",
   "execution_count": null,
   "id": "a37c74bb",
   "metadata": {},
   "outputs": [],
   "source": [
    "sudo apt update && sudo apt upgrade -y\n",
    "sudo apt-get install git -y\n",
    "sudo apt install python3-pip -y\n",
    "sudo apt install build-essential libssl-dev libffi-dev python3-dev\n",
    "sudo apt install python3-venv -y"
   ]
  },
  {
   "cell_type": "markdown",
   "id": "ab1de193",
   "metadata": {},
   "source": [
    "This will, sequentially:\n",
    "\n",
    "1. update your software list\n",
    "2. install git, easy peasy\n",
    "3. install pip, necessary for convenient python package installation\n",
    "4. install some reliability prerequisites, in case your distribution is out of date\n",
    "5. actually install python3-venv itself, which is the python3 virtual environment package.\n",
    "\n",
    "With this done, you are able to proceed to the next steps.\n"
   ]
  },
  {
   "cell_type": "markdown",
   "id": "3940d573",
   "metadata": {},
   "source": [
    "## I. Defining our environment variables\n",
    "\n",
    "In order to facilitate this tutorial, we will define a series of important environment variables. **This step is crucial** in order to deploy the pipeline on a variety of environments. You will need to define:\n",
    "\n",
    "1. The absolute path of your working directory. This is where you will want the pipeline to run, where you will place its input files, and where it will place its outputs. Note that **you will need a reasonable data quota at this specific location**: under **no circumstances** should it EVER be your home directory! If in doubt, ask your friendly local sysadmin where your data storage is located on your computational architecture.\n",
    "2. The absolute path to the datasets you want to reduce. At present LINC can only reduce one observation at a time; multiple observations will need sequential LINC calls on their respective datasets.\n",
    "\n",
    "In the examples below, I have defined the environment variables for our local compute infrastructure in Wurzburg. **If you don't change these for your use case, nothing will work**: path errors are the #1 top case of errors and bugs with LINC, so please check each of these folders and files exist with a quick ls!\n"
   ]
  },
  {
   "cell_type": "code",
   "execution_count": null,
   "id": "515093de",
   "metadata": {},
   "outputs": [],
   "source": [
    "working_dir = '/data/LOFAR/LBA'\n",
    "data_dir    = '/data/LOFAR/LBA/DATA/3C380'\n",
    "# mslist      = glob.glob(data_dir+'/L671058_SB*MS')"
   ]
  },
  {
   "cell_type": "markdown",
   "id": "148db1ad",
   "metadata": {},
   "source": [
    "## II. Acquiring the pipeline\n",
    "\n",
    "Once the prerequisites for LINC are installed, the pipeline itself can be acquired and installed with the following commands:"
   ]
  },
  {
   "cell_type": "code",
   "execution_count": null,
   "id": "12d77eb2",
   "metadata": {},
   "outputs": [],
   "source": [
    "git clone https://git.astron.nl/RD/LINC.git working_dir\n",
    "cd working_dir/LINC\n",
    "./build_venv.sh\n",
    "source venv/bin/activate\n",
    "pip install --upgrade toil[cwl]\n",
    "pip install pip install cwltool==3.1.20220628170238"
   ]
  },
  {
   "cell_type": "markdown",
   "id": "a1e1005a",
   "metadata": {},
   "source": [
    "This will, in order:\n",
    "\n",
    "1. Git clone the pipeline\n",
    "2. go to the cloned repository\n",
    "3. create the virtual environment\n",
    "4. enter it\n",
    "5. install the necessary Common Workflow Language processing tool (in this case, toil)\n",
    "6. install a version of a second Common Workflow Language processing tool (in this case, cwltool) which is known to work with LINC\n",
    "\n",
    "And with that, you're done! Note that you will need to reload the virtual environment each time you open a new terminal in which to start the pipeline. We will therefore add this command in the configuration and execution steps."
   ]
  },
  {
   "cell_type": "markdown",
   "id": "6d10295c",
   "metadata": {},
   "source": [
    "## III. Configuring the pipeline\n",
    "\n",
    "We now build scripts which will allow us to create the pipeline configuration files in a straightforward, easy way. "
   ]
  },
  {
   "cell_type": "code",
   "execution_count": null,
   "id": "4737fb16",
   "metadata": {},
   "outputs": [],
   "source": []
  }
 ],
 "metadata": {
  "kernelspec": {
   "display_name": "Python 3 (ipykernel)",
   "language": "python",
   "name": "python3"
  },
  "language_info": {
   "codemirror_mode": {
    "name": "ipython",
    "version": 3
   },
   "file_extension": ".py",
   "mimetype": "text/x-python",
   "name": "python",
   "nbconvert_exporter": "python",
   "pygments_lexer": "ipython3",
   "version": "3.10.12"
  }
 },
 "nbformat": 4,
 "nbformat_minor": 5
}

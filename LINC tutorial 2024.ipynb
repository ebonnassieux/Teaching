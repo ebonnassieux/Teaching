{
 "cells": [
  {
   "cell_type": "markdown",
   "id": "0b21a9e3",
   "metadata": {},
   "source": [
    "# LINC tutorial - Jan 2024\n",
    "\n",
    "author: Etienne Bonnassieux etienne.bonnassieux@uni-wuerzburg.de\n",
    "Official documentation: https://linc.readthedocs.io/en/latest/\n",
    "\n",
    "## This document\n",
    "\n",
    "The purpose of this document is to provide an intuitive, user-friendly addition to the official LINC documentation, in order to allow new LOFAR users to run the initial calibration pipeline on their data. We will go through definining our paths, datasets, etc; we will then show how one can first install and then deploy LINC on the data as defined here.\n",
    "\n",
    "## Prerequisites\n",
    "\n",
    "The current software prerequisites for LINC are a huge improvement over past iterations: in principle, all that is strictly required is for git and python3 virtual environments to be installed. If this is not present, you can follow the steps below to install the python requirements (assuming a Linux machine):"
   ]
  },
  {
   "cell_type": "code",
   "execution_count": 2,
   "id": "530cc04a",
   "metadata": {},
   "outputs": [
    {
     "ename": "SyntaxError",
     "evalue": "invalid syntax (3854480111.py, line 1)",
     "output_type": "error",
     "traceback": [
      "\u001b[0;36m  Cell \u001b[0;32mIn[2], line 1\u001b[0;36m\u001b[0m\n\u001b[0;31m    sudo apt update && sudo apt upgrade -y\u001b[0m\n\u001b[0m         ^\u001b[0m\n\u001b[0;31mSyntaxError\u001b[0m\u001b[0;31m:\u001b[0m invalid syntax\n"
     ]
    }
   ],
   "source": [
    "sudo apt update && sudo apt upgrade -y\n",
    "sudo apt-get install git -y\n",
    "sudo apt install python3-pip -y\n",
    "sudo apt install build-essential libssl-dev libffi-dev python3-dev\n",
    "sudo apt install python3-venv -y"
   ]
  },
  {
   "cell_type": "markdown",
   "id": "d03fcc89",
   "metadata": {},
   "source": [
    "This will, sequentially:\n",
    "\n",
    "1. update your software list\n",
    "2. install git, easy peasy\n",
    "3. install pip, necessary for convenient python package installation\n",
    "4. install some reliability prerequisites, in case your distribution is out of date\n",
    "5. actually install python3-venv itself, which is the python3 virtual environment package.\n",
    "\n",
    "With this done, you are able to proceed to the next steps.\n"
   ]
  },
  {
   "cell_type": "markdown",
   "id": "9b5b602a",
   "metadata": {},
   "source": [
    "## I. Defining our environment variables\n",
    "\n",
    "In order to facilitate this tutorial, we will define a series of important environment variables. **This step is crucial** in order to deploy the pipeline on a variety of environments. You will need to define:\n",
    "\n",
    "1. The absolute path of your working directory. This is where you will want the pipeline to run, where you will place its input files, and where it will place its outputs. Note that **you will need a reasonable data quota at this specific location**: under **no circumstances** should it EVER be your home directory! If in doubt, ask your friendly local sysadmin where your data storage is located on your computational architecture.\n",
    "2. The absolute path to the datasets you want to reduce. At present LINC can only reduce one observation at a time; multiple observations will need sequential LINC calls on their respective datasets.\n",
    "\n",
    "In the examples below, I have defined the environment variables for our local compute infrastructure in Wurzburg. **If you don't change these for your use case, nothing will work**: path errors are the #1 top case of errors and bugs with LINC, so please check each of these folders and files exist with a quick ls!\n"
   ]
  },
  {
   "cell_type": "code",
   "execution_count": 3,
   "id": "4adae4e8",
   "metadata": {},
   "outputs": [],
   "source": [
    "working_dir = '/data/LOFAR/LBA'\n",
    "data_dir    = '/data/LOFAR/LBA/DATA/3C380'\n",
    "msstring    = 'L671058_SB*MS'"
   ]
  },
  {
   "cell_type": "markdown",
   "id": "b3ac7ad8",
   "metadata": {},
   "source": [
    "## II. Acquiring the pipeline\n",
    "\n",
    "Once the prerequisites for LINC are installed, the pipeline itself can be acquired and installed with the following commands:"
   ]
  },
  {
   "cell_type": "code",
   "execution_count": 4,
   "id": "f8b55e04",
   "metadata": {},
   "outputs": [
    {
     "ename": "SyntaxError",
     "evalue": "invalid syntax (173903099.py, line 1)",
     "output_type": "error",
     "traceback": [
      "\u001b[0;36m  Cell \u001b[0;32mIn[4], line 1\u001b[0;36m\u001b[0m\n\u001b[0;31m    git clone https://git.astron.nl/RD/LINC.git working_dir\u001b[0m\n\u001b[0m        ^\u001b[0m\n\u001b[0;31mSyntaxError\u001b[0m\u001b[0;31m:\u001b[0m invalid syntax\n"
     ]
    }
   ],
   "source": [
    "git clone https://git.astron.nl/RD/LINC.git working_dir\n",
    "cd working_dir/LINC\n",
    "./build_venv.sh\n",
    "source venv/bin/activate\n",
    "pip install --upgrade toil[cwl]\n",
    "pip install pip install cwltool==3.1.20220628170238"
   ]
  },
  {
   "cell_type": "markdown",
   "id": "2b73ae66",
   "metadata": {},
   "source": [
    "This will, in order:\n",
    "\n",
    "1. Git clone the pipeline\n",
    "2. go to the cloned repository\n",
    "3. create the virtual environment\n",
    "4. enter it\n",
    "5. install the necessary Common Workflow Language processing tool (in this case, toil)\n",
    "6. install a version of a second Common Workflow Language processing tool (in this case, cwltool) which is known to work with LINC\n",
    "\n",
    "And with that, you're done! Note that you will need to reload the virtual environment each time you open a new terminal in which to start the pipeline. We will therefore add this command in the configuration and execution steps."
   ]
  },
  {
   "cell_type": "markdown",
   "id": "114718c2",
   "metadata": {},
   "source": [
    "## III. Configuring the pipeline\n",
    "\n",
    "### III.a. Running the LINC calibrator pipeline\n",
    "\n",
    "We now build scripts which will allow us to create the pipeline configuration files in a straightforward, easy way. We do this by using Python scripts to generate the .json files which LINC takes as input. There are two files we must create:\n",
    "\n",
    "1. LINC_calibrator.json\n",
    "2. LINC_target.json\n",
    "\n",
    "The first file defines the parameters, including datasets, for the pipeline which finds the initial calibration solutions. The second defines the parameters, including datasets and the outputs of the calibrator run, which are used as inputs for the target pipeline. Once the latter has converged, you have successfully calibrated your LOFAR observation, albeit only for direction-independent gains, and without international stations. This is nevertheless a great start.\n",
    "\n",
    "We begin by defining the necessary environment variables for the calibration run:"
   ]
  },
  {
   "cell_type": "code",
   "execution_count": 5,
   "id": "76dc2ebf",
   "metadata": {},
   "outputs": [],
   "source": [
    "ncpu                 = 24\n",
    "working_dir          = '/home/ebonnassieux/Teaching'\n",
    "data_dir             = '/home/ebonnassieux/Teaching'\n",
    "linc_dir             = '/home/ebonnassieux/LINC'\n",
    "msstring             = '*MS'\n",
    "linc_calib_parset    = \"LINC_calib.json\""
   ]
  },
  {
   "cell_type": "markdown",
   "id": "ac8151ca",
   "metadata": {},
   "source": [
    "Then, we run the code below, which will generate a file named as per the filename variable above, which will be \"LINC_calib.json\" by default. This will use all LINC defaults, which can be tweaked if necessary using the variables outlined in the official documentation: https://linc.readthedocs.io/en/latest/calibrator.html"
   ]
  },
  {
   "cell_type": "code",
   "execution_count": 18,
   "id": "3f89fa91",
   "metadata": {},
   "outputs": [
    {
     "data": {
      "text/plain": [
       "2"
      ]
     },
     "execution_count": 18,
     "metadata": {},
     "output_type": "execute_result"
    }
   ],
   "source": [
    "import os\n",
    "import glob\n",
    "import numpy as np\n",
    "\n",
    "mslist=np.array(list(np.sort(glob.glob(data_dir+\"/\"+msstring))))       \n",
    "lastms=mslist[-1]\n",
    "f=open(linc_calib_parset,\"w\")\n",
    "f.write(\"{\\n\")\n",
    "f.write(\"    \\\"msin\\\": [\\n\")\n",
    "for ms in mslist:\n",
    "    if ms!=lastms:\n",
    "        f.write(\"                {\\\"class\\\": \\\"Directory\\\", \\\"path\\\": \\\"\"+ms+\"\\\"},\\n\")\n",
    "    else:\n",
    "        f.write(\"                {\\\"class\\\": \\\"Directory\\\", \\\"path\\\": \\\"\"+ms+\"\\\"}\\n\")\n",
    "f.write(\"            ],\\n\")\n",
    "f.write(\"    \\\"calibrator_path_skymodel\\\": {\\\"class\\\": \\\"Directory\\\", \\\"path\\\":\\\"%s/skymodels/\\\"},\\n\"%linc_dir)\n",
    "f.write(\"}\\n\")\n"
   ]
  },
  {
   "cell_type": "markdown",
   "id": "2550af07",
   "metadata": {},
   "source": [
    "Using this file, you are now ready to run the LINC calibrator pipeline. There are two ways to invoke the command, which I build for you below. In principle, it is better to use toil-cwl-runner, but cwltool also works. **You only need to run one**: we recommend using **toil-cwl-runner**."
   ]
  },
  {
   "cell_type": "code",
   "execution_count": 19,
   "id": "4a97b470",
   "metadata": {},
   "outputs": [
    {
     "name": "stdout",
     "output_type": "stream",
     "text": [
      "time toil-cwl-runner --outdir /home/ebonnassieux/Teaching/linc_outdir --bypass-file-store --tmp-outdir-prefix /home/ebonnassieux/Teaching/scratch --maxLocalJobs 24 --log-dir <c/home/ebonnassieux/Teaching/home/ebonnassieux/LINC/workflows/HBA_calibrator.cwl LINC_calib.json 2>&1 | tee pipeline.calib.log\n"
     ]
    }
   ],
   "source": [
    "linc_calib_command = 'time toil-cwl-runner --outdir %s/linc_outdir '%working_dir             +\\\n",
    "                                          '--bypass-file-store '                             +\\\n",
    "                                          '--tmp-outdir-prefix %s '%(working_dir+'/scratch') +\\\n",
    "                                          '--maxLocalJobs %i '%ncpu                          +\\\n",
    "                                          '--log-dir <c%s'%log_dir                           +\\\n",
    "                                          '%s/workflows/HBA_calibrator.cwl '%linc_dir         +\\\n",
    "                                          '%s 2>&1 | tee pipeline.calib.log'%linc_calib_parset\n",
    "print(linc_calib_command)"
   ]
  },
  {
   "cell_type": "code",
   "execution_count": 20,
   "id": "aaa34112",
   "metadata": {},
   "outputs": [
    {
     "name": "stdout",
     "output_type": "stream",
     "text": [
      "time cwltool --parallel --singularity --outdir /home/ebonnassieux/Teaching/linc_outdir --tmpdir-prefix /home/ebonnassieux/Teaching/scratch --writeLogs /home/ebonnassieux/Teaching/scratch /home/ebonnassieux/LINC/workflows/HBA_calibrator.cwl LINC_calib.json 2>&1 | tee pipeline.calib.log\n"
     ]
    }
   ],
   "source": [
    "linc_calib_command = 'time cwltool --parallel --singularity '                   +\\\n",
    "                                  '--outdir %s/linc_outdir '%working_dir        +\\\n",
    "                                  '--tmpdir-prefix %s/scratch '%working_dir     +\\\n",
    "                                  '--log-dir %s/scratch '%working_dir         +\\\n",
    "                                  '%s/workflows/HBA_calibrator.cwl '%linc_dir   +\\\n",
    "                                  '%s 2>&1 | tee pipeline.calib.log'%linc_calib_parset\n",
    "print(linc_calib_command)"
   ]
  },
  {
   "cell_type": "markdown",
   "id": "32f578a4",
   "metadata": {},
   "source": [
    "Once you've double-checked that the paths in the command you've generated are correct (a little ls never hurts), you are ready to copy-paste the command into your terminal and start blasting. Pay particular attention to the **number of CPUs** used (not optional with cwltool): it's very rude to crash other people's jobs! Also make sure that **all the tmpdirs and logs** direct to locations where you **know there is a large amount of disk space**. After that, press enter, and go grab a warm beverage of your choice.\n",
    "\n",
    "### III.b. Reading and understanding the diagnostic outputs\n",
    "\n",
    "blabla\n",
    "\n",
    "\n",
    "### III.c. Running the LINC target pipeline\n",
    "\n",
    "If all goes well, your LINC calibrator pipeline will end with this positive message:\n",
    "\n",
    "[check what linc says]\n",
    "\n",
    "If so, you are ready to continue with the target pipeline. This is very similar to the calibrator pipeline, but requires the additional input of knowing where the calibrator pipeline wrote its outputs. We once again define our environment variables:\n",
    "\n",
    "\n"
   ]
  },
  {
   "cell_type": "code",
   "execution_count": 14,
   "id": "84f28431",
   "metadata": {},
   "outputs": [],
   "source": [
    "ncpu               = 24\n",
    "working_dir        = '/home/ebonnassieux/Teaching'\n",
    "data_dir           = '/home/ebonnassieux/Teaching'\n",
    "calib_dir          = '/home/ebonnassieux/Teaching'\n",
    "linc_dir           = '/home/ebonnassieux/LINC'\n",
    "log_dir            = '/home/ebonnassieux/Teaching'\n",
    "msstring           = '*MS'\n",
    "linc_target_parset = \"LINC_target.json\""
   ]
  },
  {
   "cell_type": "markdown",
   "id": "7746e65c",
   "metadata": {},
   "source": [
    "We then generate the appropriate .json file:"
   ]
  },
  {
   "cell_type": "code",
   "execution_count": 15,
   "id": "bd8d2cb6",
   "metadata": {},
   "outputs": [
    {
     "data": {
      "text/plain": [
       "2"
      ]
     },
     "execution_count": 15,
     "metadata": {},
     "output_type": "execute_result"
    }
   ],
   "source": [
    "import os\n",
    "import glob\n",
    "import numpy as np\n",
    "\n",
    "mslist=np.array(list(np.sort(glob.glob(data_dir+\"/\"+msstring))))       \n",
    "lastms=mslist[-1]\n",
    "\n",
    "f=open(linc_target_parset,\"w\")\n",
    "f.write(\"{\\n\")\n",
    "f.write(\"    \\\"process_baselines_target\\\": \\\"[CR]S*&\\\",\\n\")\n",
    "f.write(\"    \\\"filter_baselines\\\": \\\"[CR]S*&\\\",  \\n\")\n",
    "f.write(\"    \\\"flag_baselines\\\":   [],      \\n\")\n",
    "f.write(\"    \\\"cal_solutions\\\": {\\\"class\\\": \\\"File\\\", \\\"path\\\": \\\"%s/cal_solutions.h5\\\"},\\n\"%calib_dir)\n",
    "f.write(\"    \\\"msin\\\": [\\n\")\n",
    "for ms in mslist:\n",
    "    if ms!=lastms:\n",
    "        f.write(\"                {\\\"class\\\": \\\"Directory\\\", \\\"path\\\": \\\"\"+ms+\"\\\"},\\n\")\n",
    "    else:\n",
    "        f.write(\"                {\\\"class\\\": \\\"Directory\\\", \\\"path\\\": \\\"\"+ms+\"\\\"}\\n\")\n",
    "f.write(\"            ],\\n\")\n",
    "f.write(\"}\\n\")\n",
    "\n"
   ]
  },
  {
   "cell_type": "markdown",
   "id": "7b8b5ea1",
   "metadata": {},
   "source": [
    "You can now run the LINC target pipeline using this file, as before. This time, we only show the toil-cwl-runner command, though the cwltool command also exists and can be built if you wish."
   ]
  },
  {
   "cell_type": "code",
   "execution_count": 16,
   "id": "5b920fe6",
   "metadata": {},
   "outputs": [
    {
     "name": "stdout",
     "output_type": "stream",
     "text": [
      "time toil-cwl-runner --outdir /home/ebonnassieux/Teaching/linc_target --bypass-file-store --tmp-outdir-prefix /home/ebonnassieux/Teaching/scratch --tmpdir-prefix /home/ebonnassieux/Teaching/scratch--maxLocalJobs 24 --log-dir <c/home/ebonnassieux/Teaching  /home/ebonnassieux/LINC/workflows/HBA_target.cwl   LINC_target.json 2>&1 | tee pipeline.target.log\n"
     ]
    }
   ],
   "source": [
    "linc_target_command = 'time toil-cwl-runner --outdir %s '%(working_dir+'/linc_target')        +\\\n",
    "                                           '--bypass-file-store '                             +\\\n",
    "                                           '--tmp-outdir-prefix %s '%(working_dir+'/scratch') +\\\n",
    "                                           '--tmpdir-prefix %s'%(working_dir+'/scratch')      +\\\n",
    "                                           '--maxLocalJobs %i '%ncpu                          +\\\n",
    "                                           '--log-dir <c%s'%log_dir                           +\\\n",
    "                                           '  %s/workflows/HBA_target.cwl '%linc_dir          +\\\n",
    "                                           '  %s 2>&1 | tee pipeline.target.log'%linc_target_parset\n",
    "print(linc_target_command)"
   ]
  },
  {
   "cell_type": "markdown",
   "id": "7beaf3e4",
   "metadata": {},
   "source": [
    "## Recap: the full stack\n",
    "\n",
    "To finish this tutorial, we put below a full list of python commands which will run the python script for you. Copy the entire cell into a text file. Ensure that you edit these as you have previously, with the correct directories for your architecture. Finally, run your text file as a python script. This should run your pipeline correctly."
   ]
  },
  {
   "cell_type": "code",
   "execution_count": null,
   "id": "14ce13e9",
   "metadata": {},
   "outputs": [],
   "source": [
    "ncpu                 = 24\n",
    "working_dir          = '/home/ebonnassieux/Teaching'\n",
    "data_dir             = '/home/ebonnassieux/Teaching'\n",
    "linc_dir             = '/home/ebonnassieux/LINC'\n",
    "msstring             = '*MS'\n",
    "linc_calib_parset    = \"LINC_calib.json\"\n",
    "\n",
    "runner = 'cwltool'\n",
    "# runner = 'toil-cwl-runner'\n",
    "\n",
    "import os\n",
    "import glob\n",
    "import numpy as np\n",
    "\n",
    "mslist=np.array(list(np.sort(glob.glob(data_dir+\"/\"+msstring))))       \n",
    "lastms=mslist[-1]\n",
    "f=open(linc_calib_parset,\"w\")\n",
    "f.write(\"{\\n\")\n",
    "f.write(\"    \\\"msin\\\": [\\n\")\n",
    "for ms in mslist:\n",
    "    if ms!=lastms:\n",
    "        f.write(\"                {\\\"class\\\": \\\"Directory\\\", \\\"path\\\": \\\"\"+ms+\"\\\"},\\n\")\n",
    "    else:\n",
    "        f.write(\"                {\\\"class\\\": \\\"Directory\\\", \\\"path\\\": \\\"\"+ms+\"\\\"}\\n\")\n",
    "f.write(\"            ],\\n\")\n",
    "f.write(\"    \\\"calibrator_path_skymodel\\\": {\\\"class\\\": \\\"Directory\\\", \\\"path\\\":\\\"%s/skymodels/\\\"},\\n\"%linc_dir)\n",
    "f.write(\"}\\n\")\n",
    "\n",
    "if runner == 'toil-cwl-runner':\n",
    "    linc_calib_command = 'time toil-cwl-runner --outdir %s/linc_outdir '%working_dir             +\\\n",
    "    '--bypass-file-store '\n",
    "    '--tmp-outdir-prefix %s '%(working_dir+'/scratch') +\\\n",
    "    '--maxLocalJobs %i '%ncpu                          +\\\n",
    "    '--log-dir <c%s'%log_dir                           +\\\n",
    "    '%s/workflows/HBA_calibrator.cwl '%linc_dir        +\\\n",
    "    '%s 2>&1 | tee pipeline.calib.log'%linc_calib_parset\n",
    "elif runner == 'cwltool'\n",
    "    linc_calib_command = 'time cwltool --parallel --singularity '                   +\\\n",
    "    '--outdir %s/linc_outdir '%working_dir        +\\\n",
    "    '--tmpdir-prefix %s/scratch '%working_dir     +\\\n",
    "    '--log-dir %s/scratch '%working_dir         +\\\n",
    "    '%s/workflows/HBA_calibrator.cwl '%linc_dir   +\\\n",
    "    '%s 2>&1 | tee pipeline.calib.log'%linc_calib_parset    \n",
    "    \n",
    "os.sys(linc_calib_command)\n"
   ]
  }
 ],
 "metadata": {
  "kernelspec": {
   "display_name": "Python 3 (ipykernel)",
   "language": "python",
   "name": "python3"
  },
  "language_info": {
   "codemirror_mode": {
    "name": "ipython",
    "version": 3
   },
   "file_extension": ".py",
   "mimetype": "text/x-python",
   "name": "python",
   "nbconvert_exporter": "python",
   "pygments_lexer": "ipython3",
   "version": "3.10.12"
  }
 },
 "nbformat": 4,
 "nbformat_minor": 5
}
